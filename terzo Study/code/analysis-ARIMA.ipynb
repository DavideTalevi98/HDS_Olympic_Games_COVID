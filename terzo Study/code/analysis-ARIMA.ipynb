{
 "cells": [
  {
   "cell_type": "code",
   "execution_count": 166,
   "metadata": {},
   "outputs": [],
   "source": [
    "#Importing libraries\n",
    "import pandas as pd\n",
    "from datetime import date, timedelta\n",
    "import matplotlib.pyplot as plt\n",
    "import numpy as np\n",
    "import sdt.changepoint as c\n",
    "import math"
   ]
  },
  {
   "cell_type": "code",
   "execution_count": 167,
   "metadata": {},
   "outputs": [],
   "source": [
    "#import ARIMA libraries\n",
    "from statsmodels.tsa.stattools import adfuller\n",
    "from statsmodels.graphics import tsaplots\n",
    "from statsmodels.tsa.arima.model import ARIMA\n",
    "import pmdarima as pm\n",
    "import numpy as np"
   ]
  },
  {
   "cell_type": "code",
   "execution_count": 168,
   "metadata": {},
   "outputs": [],
   "source": [
    "# create a dataframe from the csv file\n",
    "df_new_cases = pd.read_csv('../data/WHO-COVID-19-global-data.csv')\n",
    "#df_vaccination = pd.read_csv('../data/owid-covid-data.csv')\n",
    "df_vaccination = pd.read_csv('../data/country_vaccinations.csv')"
   ]
  },
  {
   "cell_type": "code",
   "execution_count": 169,
   "metadata": {},
   "outputs": [],
   "source": [
    "# add moving average for new cases\n",
    "#df_vaccination['moving_average_new_vaccinations'] = df_vaccination.groupby('iso_code')['new_vaccinations'].transform(lambda x: x.rolling(window=7).mean()) # OWID\n",
    "df_vaccination['moving_average_new_vaccinations'] = df_vaccination.groupby('iso_code')['daily_vaccinations'].transform(lambda x: x.rolling(window=7).mean())\n",
    "\n",
    "# rimuovi tutte le righe che non hanno un valore o hanno un valore a \"0.0\" per moving_average_new_cases\n",
    "df_vaccination = df_vaccination.dropna(subset=['moving_average_new_vaccinations'])\n",
    "df_vaccination = df_vaccination[df_vaccination['moving_average_new_vaccinations'] != 0.0]"
   ]
  },
  {
   "cell_type": "code",
   "execution_count": 170,
   "metadata": {},
   "outputs": [],
   "source": [
    "# add moving average for new cases\n",
    "df_new_cases['moving_average_new_cases'] = df_new_cases.groupby('Country_code')['New_cases'].transform(lambda x: x.rolling(window=7).mean())\n",
    "\n",
    "# rimuovi tutte le righe che non hanno un valore o hanno un valore a \"0.0\" per moving_average_new_cases\n",
    "df_new_cases = df_new_cases.dropna(subset=['moving_average_new_cases'])\n",
    "df_new_cases = df_new_cases[df_new_cases['moving_average_new_cases'] != 0.0]"
   ]
  },
  {
   "cell_type": "code",
   "execution_count": 171,
   "metadata": {},
   "outputs": [],
   "source": [
    "# firter data from 2021-07-16 to 2021-08-15\n",
    "start_date = date(2021, 7, 7) \n",
    "og_start_date = date(2021, 7, 22)\n",
    "og_end_date = date(2021, 8, 8)\n",
    "end_date = date(2021, 8, 31)\n",
    "\n",
    "difference = og_start_date - start_date\n",
    "event_duration = og_end_date - og_start_date\n",
    "\n",
    "# filter data from 2021-07-16 to 2021-08-15\n",
    "df_new_cases = df_new_cases[(df_new_cases['Date_reported'] >= str(start_date)) & (df_new_cases['Date_reported'] <= str(end_date))]\n",
    "\n",
    "# filter df_vaccination from 2021-07-16 to 2021-08-15\n",
    "df_vaccination = df_vaccination[(df_vaccination['date'] >= str(start_date)) & (df_vaccination['date'] <= str(end_date))]"
   ]
  },
  {
   "cell_type": "code",
   "execution_count": 172,
   "metadata": {},
   "outputs": [],
   "source": [
    "#filter by iso_cod that not contain \"OWID\" prefix\n",
    "df_vaccination = df_vaccination[~df_vaccination['iso_code'].str.contains(\"OWID\")]\n",
    "\n",
    "# aggragate by iso_code and date and sum total_cases, total_deaths, population, total_vaccinations, new_cases, mind positive_rate, max positive_rate,KEEP LOCATION \n",
    "#df_vaccination = df_vaccination.groupby(['iso_code', 'date']).agg({'people_vaccinated':'sum', 'new_vaccinations': 'sum', 'location': 'max', 'moving_average_new_vaccinations': 'sum'})\n",
    "df_vaccination = df_vaccination.groupby(['iso_code', 'date']).agg({'total_vaccinations':'sum', 'daily_vaccinations': 'sum', 'country': 'max', 'moving_average_new_vaccinations': 'sum'})"
   ]
  },
  {
   "cell_type": "code",
   "execution_count": 173,
   "metadata": {},
   "outputs": [],
   "source": [
    "# save dataframe in csv file\n",
    "df_new_cases.to_csv('./dataframe.csv')\n",
    "df_vaccination.to_csv('./vaccinations.csv')"
   ]
  },
  {
   "cell_type": "code",
   "execution_count": 174,
   "metadata": {},
   "outputs": [
    {
     "data": {
      "text/plain": [
       "'for iso_code in df_vaccination.index.get_level_values(\\'iso_code\\').unique():\\n    plt.plot(df_vaccination.loc[iso_code][\\'moving_average_new_vaccinations\\'], label=\\'vaccinations\\')\\n    plt.title(df_vaccination.loc[iso_code][\\'country\\'].unique()[0])\\n    plt.ylabel(\"new vaccinations\")\\n    plt.xlabel(\"Date\")\\n    plt.xticks(rotation=90)\\n    plt.show()'"
      ]
     },
     "execution_count": 174,
     "metadata": {},
     "output_type": "execute_result"
    }
   ],
   "source": [
    "'''for iso_code in df_vaccination.index.get_level_values('iso_code').unique():\n",
    "    plt.plot(df_vaccination.loc[iso_code]['moving_average_new_vaccinations'], label='vaccinations')\n",
    "    plt.title(df_vaccination.loc[iso_code]['country'].unique()[0])\n",
    "    plt.ylabel(\"new vaccinations\")\n",
    "    plt.xlabel(\"Date\")\n",
    "    plt.xticks(rotation=90)\n",
    "    plt.show()'''"
   ]
  },
  {
   "cell_type": "code",
   "execution_count": 175,
   "metadata": {},
   "outputs": [],
   "source": [
    "# aggragate by iso_code and date and sum total_cases, total_deaths, population, total_vaccinations, new_cases, mind positive_rate, max positive_rate,KEEP LOCATION \n",
    "df_new_cases = df_new_cases.groupby(['Country_code', 'Date_reported']).agg({'Country': 'sum', 'WHO_region': 'sum', 'New_cases': 'sum', 'Cumulative_cases': 'sum', 'New_deaths': 'sum', 'Cumulative_deaths': 'sum', 'moving_average_new_cases': 'sum'})"
   ]
  },
  {
   "cell_type": "code",
   "execution_count": 176,
   "metadata": {},
   "outputs": [],
   "source": [
    "\n",
    "all_iso_codes = df_new_cases.index.get_level_values('Country_code').unique()"
   ]
  },
  {
   "cell_type": "code",
   "execution_count": 177,
   "metadata": {},
   "outputs": [],
   "source": [
    "# use ARIMA show how was the prediction of new cases during the Olympic Games with the data of the previous start of olimpic games considering the progress of vaccination\n"
   ]
  },
  {
   "cell_type": "code",
   "execution_count": 178,
   "metadata": {},
   "outputs": [
    {
     "ename": "TypeError",
     "evalue": "expected non-empty vector for x",
     "output_type": "error",
     "traceback": [
      "\u001b[0;31m---------------------------------------------------------------------------\u001b[0m",
      "\u001b[0;31mTypeError\u001b[0m                                 Traceback (most recent call last)",
      "Cell \u001b[0;32mIn[178], line 44\u001b[0m\n\u001b[1;32m     42\u001b[0m z2 \u001b[39m=\u001b[39m np\u001b[39m.\u001b[39mpolyfit(\u001b[39mrange\u001b[39m(\u001b[39mlen\u001b[39m(values_before),\u001b[39mlen\u001b[39m(values_before)\u001b[39m+\u001b[39m\u001b[39mlen\u001b[39m(values_oneWeek)), values_oneWeek, \u001b[39m1\u001b[39m)\n\u001b[1;32m     43\u001b[0m p2 \u001b[39m=\u001b[39m np\u001b[39m.\u001b[39mpoly1d(z2)\n\u001b[0;32m---> 44\u001b[0m z3 \u001b[39m=\u001b[39m np\u001b[39m.\u001b[39;49mpolyfit(\u001b[39mrange\u001b[39;49m(\u001b[39mlen\u001b[39;49m(values_before)\u001b[39m+\u001b[39;49m\u001b[39mlen\u001b[39;49m(values_oneWeek),\u001b[39mlen\u001b[39;49m(values_before)\u001b[39m+\u001b[39;49m\u001b[39mlen\u001b[39;49m(values_oneWeek)\u001b[39m+\u001b[39;49m\u001b[39mlen\u001b[39;49m(values_twoWeek)), values_twoWeek, \u001b[39m1\u001b[39;49m)\n\u001b[1;32m     45\u001b[0m p3 \u001b[39m=\u001b[39m np\u001b[39m.\u001b[39mpoly1d(z3)\n\u001b[1;32m     46\u001b[0m z4 \u001b[39m=\u001b[39m np\u001b[39m.\u001b[39mpolyfit(\u001b[39mrange\u001b[39m(\u001b[39mlen\u001b[39m(values_before)\u001b[39m+\u001b[39m\u001b[39mlen\u001b[39m(values_oneWeek)\u001b[39m+\u001b[39m\u001b[39mlen\u001b[39m(values_twoWeek),\u001b[39mlen\u001b[39m(values_before)\u001b[39m+\u001b[39m\u001b[39mlen\u001b[39m(values_oneWeek)\u001b[39m+\u001b[39m\u001b[39mlen\u001b[39m(values_twoWeek)\u001b[39m+\u001b[39m\u001b[39mlen\u001b[39m(values_after)), values_after, \u001b[39m1\u001b[39m)\n",
      "File \u001b[0;32m/usr/local/lib/python3.10/site-packages/numpy/lib/polynomial.py:639\u001b[0m, in \u001b[0;36mpolyfit\u001b[0;34m(x, y, deg, rcond, full, w, cov)\u001b[0m\n\u001b[1;32m    637\u001b[0m     \u001b[39mraise\u001b[39;00m \u001b[39mTypeError\u001b[39;00m(\u001b[39m\"\u001b[39m\u001b[39mexpected 1D vector for x\u001b[39m\u001b[39m\"\u001b[39m)\n\u001b[1;32m    638\u001b[0m \u001b[39mif\u001b[39;00m x\u001b[39m.\u001b[39msize \u001b[39m==\u001b[39m \u001b[39m0\u001b[39m:\n\u001b[0;32m--> 639\u001b[0m     \u001b[39mraise\u001b[39;00m \u001b[39mTypeError\u001b[39;00m(\u001b[39m\"\u001b[39m\u001b[39mexpected non-empty vector for x\u001b[39m\u001b[39m\"\u001b[39m)\n\u001b[1;32m    640\u001b[0m \u001b[39mif\u001b[39;00m y\u001b[39m.\u001b[39mndim \u001b[39m<\u001b[39m \u001b[39m1\u001b[39m \u001b[39mor\u001b[39;00m y\u001b[39m.\u001b[39mndim \u001b[39m>\u001b[39m \u001b[39m2\u001b[39m:\n\u001b[1;32m    641\u001b[0m     \u001b[39mraise\u001b[39;00m \u001b[39mTypeError\u001b[39;00m(\u001b[39m\"\u001b[39m\u001b[39mexpected 1D or 2D array for y\u001b[39m\u001b[39m\"\u001b[39m)\n",
      "\u001b[0;31mTypeError\u001b[0m: expected non-empty vector for x"
     ]
    },
    {
     "data": {
      "image/png": "[encoded data removed]",
      "text/plain": [
       "<Figure size 640x480 with 1 Axes>"
      ]
     },
     "metadata": {},
     "output_type": "display_data"
    }
   ],
   "source": [
    "#interval technique\n",
    "BayesOffline = c.BayesOffline()\n",
    "media_changepoint = 0.0\n",
    "count_changepoint = 0.0\n",
    "min_changepoint = (999,\"error\")\n",
    "max_changepoint = (-1,\"error\")\n",
    "save_me = []\n",
    "tabella2 = pd.DataFrame(columns=['State','FirstSlope','SecondSlope','ThirdSlope','FourthSlope'])\n",
    "trend_negative = []\n",
    "trend_positive = []\n",
    "\n",
    "for code in all_iso_codes:\n",
    "    # Out is a list of possible changepoint \"indices\"\n",
    "    values = df_new_cases.loc[code]['moving_average_new_cases'].values\n",
    "    prob = 0.9\n",
    "    out = []\n",
    "    plot_out = []\n",
    "    \n",
    "    \n",
    "    df2 = df_new_cases.loc[code]['moving_average_new_cases']\n",
    "    # Questa riga estrae i valori della colonna \"Data\" del dataframe df dalla prima data del dataframe alla data del lockdown.\n",
    "    values_before = df2.iloc[:difference.days+1].values\n",
    "    # Questa riga estrae i valori della colonna \"Data\" del dataframe df dalla data del lockdown fino alla settimana successiva 4.\n",
    "    values_oneWeek = df2.iloc[difference.days:difference.days+event_duration.days].values\n",
    "    # Questa riga estrae i valori della colonna \"Data\" del dataframe df dalla data del lockdown fino alla settimana successiva 5.\n",
    "    values_twoWeek = df2.iloc[difference.days+event_duration.days:difference.days+15].values\n",
    "    # Questa riga estrae i valori della colonna \"Data\" del dataframe df dalla data del lockdown fino alla settimana successiva 6.\n",
    "    values_after = df2.iloc[difference.days+15:].values\n",
    "    \n",
    "    while len(out) == 0:\n",
    "        prob = prob * 0.9\n",
    "        out = BayesOffline.find_changepoints(values, prob_threshold=prob)\n",
    "    \n",
    "    #print(\"OUT\", out, 'VALUES', values)\n",
    "    # Plot the data.\n",
    "    c.plot_changepoints(values, out, segment_alpha=0,segment_colors=['#66ffc2', '#ffb3b3']) #here it's used just to plot the initial graph, easier than doing it manually\n",
    "\n",
    "\n",
    "    z1 = np.polyfit(range(0,len(values_before)), values_before, 1)\n",
    "    #print (\"{0}x + {1}\".format(*z1))\n",
    "    p1 = np.poly1d(z1)\n",
    "    z2 = np.polyfit(range(len(values_before),len(values_before)+len(values_oneWeek)), values_oneWeek, 1)\n",
    "    p2 = np.poly1d(z2)\n",
    "    z3 = np.polyfit(range(len(values_before)+len(values_oneWeek),len(values_before)+len(values_oneWeek)+len(values_twoWeek)), values_twoWeek, 1)\n",
    "    p3 = np.poly1d(z3)\n",
    "    z4 = np.polyfit(range(len(values_before)+len(values_oneWeek)+len(values_twoWeek),len(values_before)+len(values_oneWeek)+len(values_twoWeek)+len(values_after)), values_after, 1)\n",
    "    p4 = np.poly1d(z4)\n",
    "    \n",
    "    entry = pd.DataFrame.from_dict({\"State\": code,'FirstSlope': [z1[0]],'SecondSlope': [z2[0]],'ThirdSlope': [z3[0]],'FourthSlope': [z4[0]]})\n",
    "    tabella2 = pd.concat([tabella2, entry], ignore_index=True)\n",
    "\n",
    "    array1 = np.arange(0,len(values_before))\n",
    "    array2 = np.arange(len(values_before),len(values_before)+len(values_oneWeek))\n",
    "    array2 = np.insert(array2, 0, array1[-1])\n",
    "    array3 = np.arange(len(values_before)+len(values_oneWeek),len(values_before)+len(values_oneWeek)+len(values_twoWeek))\n",
    "    array3 = np.insert(array3, 0, array2[-1])\n",
    "    array4 = np.arange(len(values_before)+len(values_oneWeek)+len(values_twoWeek),len(values_before)+len(values_oneWeek)+len(values_twoWeek)+len(values_after))\n",
    "    array4 = np.insert(array4, 0, array3[-1])\n",
    "    lw = 2\n",
    "    \n",
    "\n",
    "    plt.plot(array1, p1(range(0,len(values_before))), color=\"#0B1F65\", linewidth=lw, linestyle=\"dashdot\")\n",
    "    plt.plot(array2, p2(range(len(values_before)-1,len(values_before)+len(values_oneWeek))), color=\"#116530\", linewidth=lw, linestyle=\"dashdot\")\n",
    "    plt.plot(array3, p3(range(len(values_before)+len(values_oneWeek)-1,len(values_before)+len(values_oneWeek)+len(values_twoWeek))), color=\"#D7A449\", linewidth=lw, linestyle=\"dashdot\")\n",
    "    plt.plot(array4, p4(range(len(values_before)+len(values_oneWeek)+len(values_twoWeek)-1,len(values_before)+len(values_oneWeek)+len(values_twoWeek)+len(values_after))), color=\"#DB3F29\", linewidth=lw, linestyle=\"dashdot\")\n",
    "\n",
    "    # Crea un plot con i punti di cambio colorati\n",
    "    plt.title(code + \" - \" + df_new_cases.loc[code]['Country'].unique()[0])\n",
    "    plt.axvline(x = difference.days-14, color = 'blue', label = '14 days before first game of olympic games')\n",
    "    plt.axvline(x = difference.days+7, color = 'orange', label = '7 days after first game of olympic games')\n",
    "    plt.axvline(x = difference.days+18, color = '#FF7D4D', label = '7 days after last game of olympic games')\n",
    "    plt.xlabel(\"Days since the 28th of July 2021\")\n",
    "    plt.ylabel(\"Current MA - Previous MA\")\n",
    "    #plt.legend()\n",
    "    plt.axvspan(difference.days, difference.days+11, facecolor='#ffe206', alpha=0.5)\n",
    "    ymax = plt.ylim()[1]\n",
    "    # aggiungi un margine di 5% sopra il massimo valore per far spazio alle etichette\n",
    "    plt.ylim(ymax=ymax*1.20)\n",
    "    plt.text(difference.days-14, ymax, \"14 days before\\nfirst game of\\nolympic games\", rotation=0, color=\"white\", backgroundcolor=\"blue\")\n",
    "    plt.text(difference.days, ymax, \"Olympic \\nGames\", rotation=0, color=\"black\", backgroundcolor=\"yellow\")\n",
    "    plt.text(difference.days+7+1, ymax, \"7 days \\nafter first metch\", rotation=0, backgroundcolor=\"orange\")\n",
    "    plt.text(difference.days+18+1, ymax, \"7 days \\nafter last match\", rotation=0, backgroundcolor=\"#FF7D4D\")\n",
    "    #save the plot as a png file\n",
    "    plt.savefig(\"../pictures/\"+ code + \"_intervals\" +\".png\")\n",
    "    plt.show()"
   ]
  },
  {
   "cell_type": "code",
   "execution_count": null,
   "metadata": {},
   "outputs": [],
   "source": [
    "#tabella is the table for changepoints and tabella2 is the table for the intervals\n",
    "tabella.set_index(tabella['State'])\n",
    "tabella.to_csv(\"./tabella.csv\", index=False)\n",
    "\n",
    "tabella2.set_index(tabella2['State'])\n",
    "tabella2.to_csv(\"./tabella2.csv\", index=False)"
   ]
  }
 ],
 "metadata": {
  "kernelspec": {
   "display_name": "Python 3",
   "language": "python",
   "name": "python3"
  },
  "language_info": {
   "codemirror_mode": {
    "name": "ipython",
    "version": 3
   },
   "file_extension": ".py",
   "mimetype": "text/x-python",
   "name": "python",
   "nbconvert_exporter": "python",
   "pygments_lexer": "ipython3",
   "version": "3.10.9"
  },
  "orig_nbformat": 4
 },
 "nbformat": 4,
 "nbformat_minor": 2
}
